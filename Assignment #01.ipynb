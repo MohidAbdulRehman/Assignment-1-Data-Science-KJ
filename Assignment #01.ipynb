{
 "cells": [
  {
   "cell_type": "code",
   "execution_count": 1,
   "id": "a6bc172b",
   "metadata": {},
   "outputs": [
    {
     "name": "stdout",
     "output_type": "stream",
     "text": [
      "Twinkle,twinkle,little star,\n",
      "        How I wonder what you are!\n",
      "                Up above the world so high,\n",
      "                Like a diamond in the sky.\n",
      "Twinkle,twinkle,little star,\n",
      "        How I wonder what you are!\n",
      "\n"
     ]
    }
   ],
   "source": [
    "#1\n",
    "\n",
    "print(\"Twinkle,twinkle,little star,\\n\"\n",
    "      \"        How I wonder what you are!\\n\"\n",
    "      \"                Up above the world so high,\\n\"\n",
    "      \"                Like a diamond in the sky.\\n\"\n",
    "      \"Twinkle,twinkle,little star,\\n\"\n",
    "      \"        How I wonder what you are!\\n\")"
   ]
  },
  {
   "cell_type": "code",
   "execution_count": 2,
   "id": "633cf2f2",
   "metadata": {},
   "outputs": [
    {
     "name": "stdout",
     "output_type": "stream",
     "text": [
      "Python version\n",
      "3.9.7 (default, Sep 16 2021, 16:59:28) [MSC v.1916 64 bit (AMD64)]\n",
      "Version info.\n",
      "sys.version_info(major=3, minor=9, micro=7, releaselevel='final', serial=0)\n"
     ]
    }
   ],
   "source": [
    "#2\n",
    "\n",
    "import sys\n",
    "print(\"Python version\")\n",
    "print (sys.version)\n",
    "print(\"Version info.\")\n",
    "print (sys.version_info)"
   ]
  },
  {
   "cell_type": "code",
   "execution_count": 3,
   "id": "e2acc769",
   "metadata": {},
   "outputs": [
    {
     "name": "stdout",
     "output_type": "stream",
     "text": [
      "Current date and time : \n",
      "01-01-2022 16:32:55\n"
     ]
    }
   ],
   "source": [
    "#3\n",
    "\n",
    "import datetime\n",
    "now = datetime.datetime.now()\n",
    "print (\"Current date and time : \")\n",
    "print (now.strftime(\"%d-%m-%Y %H:%M:%S\"))"
   ]
  },
  {
   "cell_type": "code",
   "execution_count": 14,
   "id": "d1b061bf",
   "metadata": {},
   "outputs": [
    {
     "name": "stdout",
     "output_type": "stream",
     "text": [
      "Enter the radius of Circle : 2\n",
      "The Area of Circle with radius 2.0 is: 12.568\n"
     ]
    }
   ],
   "source": [
    "#4\n",
    "\n",
    "r = float(input(\"Enter the radius of Circle : \"))\n",
    "formula = 3.142 * (r *r)\n",
    "print (\"The Area of Circle with radius\" + \" \" + str(r) + \" \" + \"is: \" + str(formula))\n"
   ]
  },
  {
   "cell_type": "code",
   "execution_count": 7,
   "id": "b8bfdc6b",
   "metadata": {},
   "outputs": [
    {
     "name": "stdout",
     "output_type": "stream",
     "text": [
      "Enter your First Name : Mohid\n",
      "Enter your Last Name :  AbdulRehman\n",
      "Your name is:  AbdulRehman Mohid\n"
     ]
    }
   ],
   "source": [
    "#5\n",
    "\n",
    "firname = input(\"Enter your First Name : \")\n",
    "lasname = input(\"Enter your Last Name :  \")\n",
    "fulname = lasname + \" \" + firname\n",
    "print(\"Your name is: \" , fulname)"
   ]
  },
  {
   "cell_type": "code",
   "execution_count": 2,
   "id": "11f3ae95",
   "metadata": {},
   "outputs": [
    {
     "name": "stdout",
     "output_type": "stream",
     "text": [
      "Enter First number: 45\n",
      "Enter Second number: 5\n",
      "Sum of two number is: 50\n"
     ]
    }
   ],
   "source": [
    "#6\n",
    "a = int(input(\"Enter First number: \"))\n",
    "b = int(input(\"Enter Second number: \"))\n",
    "c = a+b\n",
    "print(\"Sum of two number is: \" + str(c) )"
   ]
  },
  {
   "cell_type": "code",
   "execution_count": null,
   "id": "fd471385",
   "metadata": {},
   "outputs": [],
   "source": []
  }
 ],
 "metadata": {
  "kernelspec": {
   "display_name": "Python 3 (ipykernel)",
   "language": "python",
   "name": "python3"
  },
  "language_info": {
   "codemirror_mode": {
    "name": "ipython",
    "version": 3
   },
   "file_extension": ".py",
   "mimetype": "text/x-python",
   "name": "python",
   "nbconvert_exporter": "python",
   "pygments_lexer": "ipython3",
   "version": "3.9.7"
  }
 },
 "nbformat": 4,
 "nbformat_minor": 5
}
